{
 "cells": [
  {
   "cell_type": "code",
   "execution_count": null,
   "id": "3a4c1869-9c59-4392-abfc-aceed5b39044",
   "metadata": {},
   "outputs": [],
   "source": []
  },
  {
   "cell_type": "raw",
   "id": "beba2fdc-324b-4c9f-a687-23867c47e195",
   "metadata": {},
   "source": [
    "Question:Q1>Explain Class and Object with respect to Object-Oriented Programming. Give a suitable example.\n",
    "Answer:\n",
    "    \n",
    "Python Class and Objects :\n",
    "\n",
    "A class is a blueprint or a template for creating objects, providing initial values for state (member variables or\n",
    "attributes), and implementations of behavior (member functions or methods). The user-defined objects are created\n",
    "using the class keyword.\n",
    "\n",
    "Creating a Class:\n",
    "    \n",
    "Let us now create a class using the class keyword.\n",
    "\n",
    "class Details:\n",
    "    name = \"imtiyaz hussain\"\n",
    "    age = 20\n",
    "    \n",
    "Creating an Object:\n",
    "Object is the instance of the class used to access the properties of the class Now lets create an object of the class.\n",
    "\n",
    "Example:\n",
    "obj1 = Details()\n",
    "Now we can print values:\n",
    "\n",
    "Example:\n",
    "class Details:\n",
    "    name = \"imtiyaz hussain\"\n",
    "    age = 20\n",
    "\n",
    "obj1 = Details()\n",
    "print(obj1.name)\n",
    "print(obj1.age)\n",
    "Output:\n",
    "Rohan\n",
    "20\n"
   ]
  },
  {
   "cell_type": "code",
   "execution_count": 2,
   "id": "12685616-f744-4c8d-9675-15957ab13bff",
   "metadata": {},
   "outputs": [
    {
     "ename": "SyntaxError",
     "evalue": "invalid decimal literal (4141079297.py, line 3)",
     "output_type": "error",
     "traceback": [
      "\u001b[0;36m  Cell \u001b[0;32mIn[2], line 3\u001b[0;36m\u001b[0m\n\u001b[0;31m    1.Inheritance,\u001b[0m\n\u001b[0m     ^\u001b[0m\n\u001b[0;31mSyntaxError\u001b[0m\u001b[0;31m:\u001b[0m invalid decimal literal\n"
     ]
    }
   ],
   "source": [
    "Question-2:Name the four pillars of OOPs.\n",
    "Answer:the four pillars of OOPs are:\n",
    "    1.Inheritance, \n",
    "    2.Polymorphism,\n",
    "    3.Encapsulation,\n",
    "    4.Abstraction\n"
   ]
  },
  {
   "cell_type": "code",
   "execution_count": 5,
   "id": "84d40bd6-9333-4c83-92be-0959298a9d21",
   "metadata": {},
   "outputs": [
    {
     "name": "stdout",
     "output_type": "stream",
     "text": [
      "Hello, my name is imteh\n"
     ]
    }
   ],
   "source": [
    "# Question-3:Explain why the __init__() function is used. Give a suitable example.\n",
    "# Answer:\n",
    "    # init is short for initialization. It is a constructor which gets called when you make an instance of the class\n",
    "    \n",
    "    \n",
    "#example:# A Sample class with init method\n",
    "class Myself:\n",
    " \n",
    "    # init method or constructor\n",
    "    def __init__(self, name):\n",
    "        \n",
    "        self.name = name\n",
    " \n",
    "    # Sample Method\n",
    "    def wish(self):\n",
    "        print('Hello, my name is', self.name)\n",
    " \n",
    " \n",
    "p = Myself('imteh')\n",
    "p.wish()\n"
   ]
  },
  {
   "cell_type": "code",
   "execution_count": 4,
   "id": "f88ceae5-84ff-4033-aee5-c74a916d2c0c",
   "metadata": {},
   "outputs": [
    {
     "ename": "SyntaxError",
     "evalue": "invalid syntax (3930584642.py, line 2)",
     "output_type": "error",
     "traceback": [
      "\u001b[0;36m  Cell \u001b[0;32mIn[4], line 2\u001b[0;36m\u001b[0m\n\u001b[0;31m    Answer:The self parameter is a reference to the current instance of the class, and is used to access variables\u001b[0m\n\u001b[0m               ^\u001b[0m\n\u001b[0;31mSyntaxError\u001b[0m\u001b[0;31m:\u001b[0m invalid syntax\n"
     ]
    }
   ],
   "source": [
    "Question-4:Why self is used in OOPs?\n",
    "Answer:The self parameter is a reference to the current instance of the class, and is used to access variables\n",
    "that belongs to the class.\n",
    "\n",
    "It must be provided as the extra parameter inside the method definition.\n"
   ]
  },
  {
   "cell_type": "code",
   "execution_count": null,
   "id": "a24a3f54-6db8-4729-ae9d-e12bc39da1b4",
   "metadata": {},
   "outputs": [],
   "source": [
    "Question:Q5. What is inheritance? Give an example for each type of inheritance.\n",
    "Answer:Inheritance is the process by which genetic information is passed on from parent to child. This is why members\n",
    "of the same family tend to have similar characteristics.\n",
    "\n",
    "example:The cats have same color,same size,same name.\n",
    "        But they are not same they are identical "
   ]
  }
 ],
 "metadata": {
  "kernelspec": {
   "display_name": "Python 3 (ipykernel)",
   "language": "python",
   "name": "python3"
  },
  "language_info": {
   "codemirror_mode": {
    "name": "ipython",
    "version": 3
   },
   "file_extension": ".py",
   "mimetype": "text/x-python",
   "name": "python",
   "nbconvert_exporter": "python",
   "pygments_lexer": "ipython3",
   "version": "3.10.8"
  }
 },
 "nbformat": 4,
 "nbformat_minor": 5
}
